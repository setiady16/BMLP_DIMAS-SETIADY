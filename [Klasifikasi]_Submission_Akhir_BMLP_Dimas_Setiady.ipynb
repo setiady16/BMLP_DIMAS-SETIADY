{
  "cells": [
    {
      "cell_type": "markdown",
      "metadata": {
        "id": "0tvAKGat01Sd"
      },
      "source": [
        "# **Penting**\n",
        "- Pastikan Anda melakukan Run All sebelum mengirimkan submission untuk memastikan seluruh cell berjalan dengan baik.\n",
        "- Hapus simbol pagar (#) jika Anda menerapkan kriteria tambahan\n",
        "- Biarkan simbol pagar (#) jika Anda tidak menerapkan kriteria tambahan"
      ]
    },
    {
      "cell_type": "markdown",
      "metadata": {
        "id": "fKADPWcFKlj3"
      },
      "source": [
        "# **1. Import Library**\n",
        "Pada tahap ini, Anda perlu mengimpor beberapa pustaka (library) Python yang dibutuhkan untuk analisis data dan pembangunan model machine learning."
      ]
    },
    {
      "cell_type": "code",
      "execution_count": 1,
      "metadata": {
        "id": "BlmvjLY9M4Yj"
      },
      "outputs": [],
      "source": [
        "# Import library untuk manipulasi data\n",
        "import pandas as pd\n",
        "import numpy as np\n",
        "\n",
        "# Import library untuk visualisasi (opsional)\n",
        "import matplotlib.pyplot as plt\n",
        "import seaborn as sns\n",
        "\n",
        "# Import library untuk preprocessing dan pembagian dataset\n",
        "from sklearn.model_selection import train_test_split\n",
        "from sklearn.preprocessing import StandardScaler\n",
        "\n",
        "# Import library untuk model klasifikasi\n",
        "from sklearn.tree import DecisionTreeClassifier\n",
        "from sklearn.ensemble import RandomForestClassifier\n",
        "\n",
        "# Import library untuk evaluasi model\n",
        "from sklearn.metrics import classification_report, confusion_matrix, accuracy_score\n",
        "\n",
        "# Import library untuk hyperparameter tuning (jika diperlukan)\n",
        "from sklearn.model_selection import GridSearchCV\n",
        "\n",
        "# Import library untuk menyimpan model\n",
        "import joblib"
      ]
    },
    {
      "cell_type": "markdown",
      "metadata": {
        "id": "f3YIEnAFKrKL"
      },
      "source": [
        "# **2. Memuat Dataset dari Hasil Clustering**\n",
        "Memuat dataset hasil clustering dari file CSV ke dalam variabel DataFrame."
      ]
    },
    {
      "cell_type": "code",
      "execution_count": 2,
      "metadata": {
        "id": "GHCGNTyrM5fS"
      },
      "outputs": [],
      "source": [
        "# Gunakan dataset hasil clustering yang memiliki fitur Target\n",
        "# Silakan gunakan dataset data_clustering jika tidak menerapkan Interpretasi Hasil Clustering [Advanced]\n",
        "# Silakan gunakan dataset data_clustering_inverse jika menerapkan Interpretasi Hasil Clustering [Advanced]\n",
        "\n",
        "# Membaca dataset hasil interpretasi clustering\n",
        "df = pd.read_csv(\"data_clustering_inverse.csv\")"
      ]
    },
    {
      "cell_type": "code",
      "execution_count": 3,
      "metadata": {},
      "outputs": [
        {
          "name": "stdout",
          "output_type": "stream",
          "text": [
            "<class 'pandas.core.frame.DataFrame'>\n",
            "RangeIndex: 2516 entries, 0 to 2515\n",
            "Data columns (total 12 columns):\n",
            " #   Column                   Non-Null Count  Dtype  \n",
            "---  ------                   --------------  -----  \n",
            " 0   TransactionAmount        2516 non-null   float64\n",
            " 1   CustomerAge              2516 non-null   float64\n",
            " 2   TransactionDuration      2516 non-null   float64\n",
            " 3   LoginAttempts            2516 non-null   float64\n",
            " 4   AccountBalance           2516 non-null   float64\n",
            " 5   Target                   2516 non-null   int64  \n",
            " 6   TransactionDate          2488 non-null   object \n",
            " 7   TransactionType          2486 non-null   object \n",
            " 8   Location                 2486 non-null   object \n",
            " 9   Channel                  2489 non-null   object \n",
            " 10  CustomerOccupation       2493 non-null   object \n",
            " 11  PreviousTransactionDate  2492 non-null   object \n",
            "dtypes: float64(5), int64(1), object(6)\n",
            "memory usage: 236.0+ KB\n",
            "None\n"
          ]
        }
      ],
      "source": [
        "# Cek informasi umum dataset\n",
        "print(df.info())"
      ]
    },
    {
      "cell_type": "code",
      "execution_count": 4,
      "metadata": {
        "id": "bCsep0NZ0LUf"
      },
      "outputs": [
        {
          "data": {
            "text/html": [
              "<div>\n",
              "<style scoped>\n",
              "    .dataframe tbody tr th:only-of-type {\n",
              "        vertical-align: middle;\n",
              "    }\n",
              "\n",
              "    .dataframe tbody tr th {\n",
              "        vertical-align: top;\n",
              "    }\n",
              "\n",
              "    .dataframe thead th {\n",
              "        text-align: right;\n",
              "    }\n",
              "</style>\n",
              "<table border=\"1\" class=\"dataframe\">\n",
              "  <thead>\n",
              "    <tr style=\"text-align: right;\">\n",
              "      <th></th>\n",
              "      <th>TransactionAmount</th>\n",
              "      <th>CustomerAge</th>\n",
              "      <th>TransactionDuration</th>\n",
              "      <th>LoginAttempts</th>\n",
              "      <th>AccountBalance</th>\n",
              "      <th>Target</th>\n",
              "      <th>TransactionDate</th>\n",
              "      <th>TransactionType</th>\n",
              "      <th>Location</th>\n",
              "      <th>Channel</th>\n",
              "      <th>CustomerOccupation</th>\n",
              "      <th>PreviousTransactionDate</th>\n",
              "    </tr>\n",
              "  </thead>\n",
              "  <tbody>\n",
              "    <tr>\n",
              "      <th>0</th>\n",
              "      <td>14.09</td>\n",
              "      <td>70.000000</td>\n",
              "      <td>81.0</td>\n",
              "      <td>1.0</td>\n",
              "      <td>5112.21</td>\n",
              "      <td>0</td>\n",
              "      <td>2023-04-11 16:29:14</td>\n",
              "      <td>Debit</td>\n",
              "      <td>San Diego</td>\n",
              "      <td>ATM</td>\n",
              "      <td>Doctor</td>\n",
              "      <td>2024-11-04 08:08:08</td>\n",
              "    </tr>\n",
              "    <tr>\n",
              "      <th>1</th>\n",
              "      <td>376.24</td>\n",
              "      <td>68.000000</td>\n",
              "      <td>141.0</td>\n",
              "      <td>1.0</td>\n",
              "      <td>13758.91</td>\n",
              "      <td>1</td>\n",
              "      <td>2023-06-27 16:44:19</td>\n",
              "      <td>Debit</td>\n",
              "      <td>Houston</td>\n",
              "      <td>ATM</td>\n",
              "      <td>Doctor</td>\n",
              "      <td>2024-11-04 08:09:35</td>\n",
              "    </tr>\n",
              "    <tr>\n",
              "      <th>2</th>\n",
              "      <td>126.29</td>\n",
              "      <td>19.000000</td>\n",
              "      <td>56.0</td>\n",
              "      <td>1.0</td>\n",
              "      <td>1122.35</td>\n",
              "      <td>2</td>\n",
              "      <td>2023-07-10 18:16:08</td>\n",
              "      <td>Debit</td>\n",
              "      <td>Mesa</td>\n",
              "      <td>Online</td>\n",
              "      <td>Student</td>\n",
              "      <td>2024-11-04 08:07:04</td>\n",
              "    </tr>\n",
              "    <tr>\n",
              "      <th>3</th>\n",
              "      <td>184.50</td>\n",
              "      <td>26.000000</td>\n",
              "      <td>25.0</td>\n",
              "      <td>1.0</td>\n",
              "      <td>8569.06</td>\n",
              "      <td>1</td>\n",
              "      <td>2023-05-05 16:32:11</td>\n",
              "      <td>Debit</td>\n",
              "      <td>Raleigh</td>\n",
              "      <td>Online</td>\n",
              "      <td>Student</td>\n",
              "      <td>2024-11-04 08:09:06</td>\n",
              "    </tr>\n",
              "    <tr>\n",
              "      <th>4</th>\n",
              "      <td>13.45</td>\n",
              "      <td>44.644916</td>\n",
              "      <td>198.0</td>\n",
              "      <td>1.0</td>\n",
              "      <td>7429.40</td>\n",
              "      <td>1</td>\n",
              "      <td>2023-10-16 17:51:24</td>\n",
              "      <td>Credit</td>\n",
              "      <td>Atlanta</td>\n",
              "      <td>Online</td>\n",
              "      <td>Student</td>\n",
              "      <td>2024-11-04 08:06:39</td>\n",
              "    </tr>\n",
              "  </tbody>\n",
              "</table>\n",
              "</div>"
            ],
            "text/plain": [
              "   TransactionAmount  CustomerAge  TransactionDuration  LoginAttempts  \\\n",
              "0              14.09    70.000000                 81.0            1.0   \n",
              "1             376.24    68.000000                141.0            1.0   \n",
              "2             126.29    19.000000                 56.0            1.0   \n",
              "3             184.50    26.000000                 25.0            1.0   \n",
              "4              13.45    44.644916                198.0            1.0   \n",
              "\n",
              "   AccountBalance  Target      TransactionDate TransactionType   Location  \\\n",
              "0         5112.21       0  2023-04-11 16:29:14           Debit  San Diego   \n",
              "1        13758.91       1  2023-06-27 16:44:19           Debit    Houston   \n",
              "2         1122.35       2  2023-07-10 18:16:08           Debit       Mesa   \n",
              "3         8569.06       1  2023-05-05 16:32:11           Debit    Raleigh   \n",
              "4         7429.40       1  2023-10-16 17:51:24          Credit    Atlanta   \n",
              "\n",
              "  Channel CustomerOccupation PreviousTransactionDate  \n",
              "0     ATM             Doctor     2024-11-04 08:08:08  \n",
              "1     ATM             Doctor     2024-11-04 08:09:35  \n",
              "2  Online            Student     2024-11-04 08:07:04  \n",
              "3  Online            Student     2024-11-04 08:09:06  \n",
              "4  Online            Student     2024-11-04 08:06:39  "
            ]
          },
          "execution_count": 4,
          "metadata": {},
          "output_type": "execute_result"
        }
      ],
      "source": [
        "# Tampilkan 5 baris pertama dengan function head.\n",
        "df.head()"
      ]
    },
    {
      "cell_type": "markdown",
      "metadata": {
        "id": "KkPem5eWL2UP"
      },
      "source": [
        "# **3. Data Splitting**\n",
        "Tahap Data Splitting bertujuan untuk memisahkan dataset menjadi dua bagian: data latih (training set) dan data uji (test set)."
      ]
    },
    {
      "cell_type": "code",
      "execution_count": 5,
      "metadata": {},
      "outputs": [],
      "source": [
        "# 1. Hapus kolom waktu\n",
        "df = df.drop(columns=['TransactionDate', 'PreviousTransactionDate'])\n",
        "\n",
        "# 2. Encoding kolom kategorikal\n",
        "df_encoded = pd.get_dummies(df, columns=['TransactionType', 'Location', 'Channel', 'CustomerOccupation'])\n",
        "\n",
        "# 3. Ubah nama kolom 'Target' menjadi 'cluster_label'\n",
        "df_encoded.rename(columns={'Target': 'cluster_label'}, inplace=True)\n",
        "\n",
        "# 4. Pisahkan fitur dan target\n",
        "X = df_encoded.drop(columns=['cluster_label'])\n",
        "y = df_encoded['cluster_label']"
      ]
    },
    {
      "cell_type": "code",
      "execution_count": 6,
      "metadata": {},
      "outputs": [
        {
          "name": "stdout",
          "output_type": "stream",
          "text": [
            "Train size: 2012\n",
            "Test size: 504\n"
          ]
        }
      ],
      "source": [
        "# Membagi data menjadi training dan testing set\n",
        "from sklearn.model_selection import train_test_split\n",
        "\n",
        "X_train, X_test, y_train, y_test = train_test_split(\n",
        "    X, y,\n",
        "    test_size=0.2,         # 20% data untuk test, 80% data untuk training\n",
        "    random_state=42,       \n",
        "    stratify=y             \n",
        ")\n",
        "\n",
        "print(\"Train size:\", len(X_train))\n",
        "print(\"Test size:\", len(X_test))"
      ]
    },
    {
      "cell_type": "markdown",
      "metadata": {},
      "source": [
        "*Insight Data Splitting :*\n",
        "- Dataset total berjumlah 2515 data.\n",
        "- Data terbagi menjadi:\n",
        "    - Training set: 2012 data (80%)\n",
        "    - Testing set: 503 data (20%)"
      ]
    },
    {
      "cell_type": "markdown",
      "metadata": {
        "id": "IVPbB03CMhTT"
      },
      "source": [
        "# **4. Membangun Model Klasifikasi**\n",
        "Setelah memilih algoritma klasifikasi yang sesuai, langkah selanjutnya adalah melatih model menggunakan data latih.\n",
        "\n",
        "Berikut adalah rekomendasi tahapannya.\n",
        "1. Menggunakan algoritma klasifikasi yaitu Decision Tree.\n",
        "2. Latih model menggunakan data yang sudah dipisah."
      ]
    },
    {
      "cell_type": "code",
      "execution_count": 7,
      "metadata": {
        "id": "4JYxBe87NLDk"
      },
      "outputs": [
        {
          "name": "stdout",
          "output_type": "stream",
          "text": [
            "Akurasi: 0.9662698412698413\n",
            "\n",
            "Laporan klasifikasi:\n",
            "               precision    recall  f1-score   support\n",
            "\n",
            "           0       0.96      0.98      0.97       189\n",
            "           1       0.96      0.94      0.95       145\n",
            "           2       0.97      0.97      0.97       170\n",
            "\n",
            "    accuracy                           0.97       504\n",
            "   macro avg       0.97      0.96      0.97       504\n",
            "weighted avg       0.97      0.97      0.97       504\n",
            "\n"
          ]
        },
        {
          "data": {
            "image/png": "[encoded data removed]",
            "text/plain": [
              "<Figure size 600x400 with 1 Axes>"
            ]
          },
          "metadata": {},
          "output_type": "display_data"
        }
      ],
      "source": [
        "# 6. Latih model Decision Tree\n",
        "from sklearn.tree import DecisionTreeClassifier\n",
        "from sklearn.metrics import classification_report, accuracy_score, confusion_matrix\n",
        "import matplotlib.pyplot as plt\n",
        "import seaborn as sns\n",
        "\n",
        "dt_model = DecisionTreeClassifier(random_state=42)\n",
        "dt_model.fit(X_train, y_train)\n",
        "y_pred = dt_model.predict(X_test)\n",
        "\n",
        "print(\"Akurasi:\", accuracy_score(y_test, y_pred))\n",
        "print(\"\\nLaporan klasifikasi:\\n\", classification_report(y_test, y_pred, zero_division=0))\n",
        "\n",
        "cm = confusion_matrix(y_test, y_pred)\n",
        "plt.figure(figsize=(6,4))\n",
        "sns.heatmap(cm, annot=True, fmt='d', cmap='Blues', cbar=False)\n",
        "plt.xlabel('Predicted Label')\n",
        "plt.ylabel('True Label')\n",
        "plt.title('Confusion Matrix Decision Tree')\n",
        "plt.show()\n"
      ]
    },
    {
      "cell_type": "markdown",
      "metadata": {},
      "source": [
        "*Insight Model Decision Tree :*\n",
        "- Akurasi Model\n",
        "    - Model Decision Tree menghasilkan akurasi sekitar 36.6% pada data pengujian. \n",
        "\n",
        "- Performa Klasifikasi per Kelas\n",
        "    - Precision dan recall untuk ketiga kelas (0, 1, 2) berada di kisaran 0.34 hingga 0.38.\n",
        "    - Nilai F1-score yang juga sekitar 0.36 - 0.38 mengindikasikan keseimbangan yang rendah antara presisi dan recall.\n",
        "\n",
        "- Confusion Matrix\n",
        "    - Dari heatmap confusion matrix terlihat bahwa model sering melakukan prediksi salah (banyak nilai diagonal utama yang rendah dan distribusi prediksi menyebar ke kelas lain)."
      ]
    },
    {
      "cell_type": "code",
      "execution_count": 8,
      "metadata": {
        "id": "P_AakAxghYv-"
      },
      "outputs": [
        {
          "data": {
            "text/plain": [
              "['decision_tree_model.h5']"
            ]
          },
          "execution_count": 8,
          "metadata": {},
          "output_type": "execute_result"
        }
      ],
      "source": [
        "# Menyimpan Model\n",
        "# import joblib\n",
        "# joblib.dump(model, 'decision_tree_model.h5')\n",
        "\n",
        "import joblib\n",
        "\n",
        "# Simpan model Decision Tree ke file\n",
        "joblib.dump(dt_model, 'decision_tree_model.h5')\n"
      ]
    },
    {
      "cell_type": "markdown",
      "metadata": {
        "id": "epO4HhrzBXMg"
      },
      "source": [
        "# **5. Memenuhi Kriteria Skilled dan Advanced dalam Membangun Model Klasifikasi**\n",
        "\n"
      ]
    },
    {
      "cell_type": "markdown",
      "metadata": {
        "id": "DNOEZk24uiXu"
      },
      "source": [
        "**Biarkan kosong jika tidak menerapkan kriteria skilled atau advanced**"
      ]
    },
    {
      "cell_type": "markdown",
      "metadata": {},
      "source": [
        "**Melatih model menggunakan Random Forest*"
      ]
    },
    {
      "cell_type": "code",
      "execution_count": 9,
      "metadata": {
        "id": "kB_8LIWMATl6"
      },
      "outputs": [
        {
          "name": "stdout",
          "output_type": "stream",
          "text": [
            "Akurasi Random Forest: 0.9761904761904762\n",
            "\n",
            "Laporan klasifikasi:\n",
            "               precision    recall  f1-score   support\n",
            "\n",
            "           0       0.97      0.97      0.97       189\n",
            "           1       0.98      0.96      0.97       145\n",
            "           2       0.98      0.99      0.99       170\n",
            "\n",
            "    accuracy                           0.98       504\n",
            "   macro avg       0.98      0.98      0.98       504\n",
            "weighted avg       0.98      0.98      0.98       504\n",
            "\n"
          ]
        },
        {
          "data": {
            "image/png": "[encoded data removed]",
            "text/plain": [
              "<Figure size 600x400 with 1 Axes>"
            ]
          },
          "metadata": {},
          "output_type": "display_data"
        }
      ],
      "source": [
        "# Melatih model menggunakan algoritma klasifikasi selain Decision Tree.\n",
        "\n",
        "from sklearn.ensemble import RandomForestClassifier\n",
        "from sklearn.metrics import accuracy_score, classification_report, confusion_matrix\n",
        "import seaborn as sns\n",
        "import matplotlib.pyplot as plt\n",
        "\n",
        "# 1. Inisialisasi model\n",
        "rf_model = RandomForestClassifier(random_state=42)\n",
        "\n",
        "# 2. Melatih model\n",
        "rf_model.fit(X_train, y_train)\n",
        "\n",
        "# 3. Prediksi\n",
        "y_pred_rf = rf_model.predict(X_test)\n",
        "\n",
        "# 4. Evaluasi\n",
        "print(\"Akurasi Random Forest:\", accuracy_score(y_test, y_pred_rf))\n",
        "print(\"\\nLaporan klasifikasi:\\n\", classification_report(y_test, y_pred_rf))\n",
        "\n",
        "# 5. Visualisasi Confusion Matrix\n",
        "cm = confusion_matrix(y_test, y_pred_rf)\n",
        "plt.figure(figsize=(6,4))\n",
        "sns.heatmap(cm, annot=True, fmt='d', cmap='Greens', cbar=False)\n",
        "plt.xlabel('Predicted Label')\n",
        "plt.ylabel('True Label')\n",
        "plt.title('Confusion Matrix - Random Forest')\n",
        "plt.show()\n"
      ]
    },
    {
      "cell_type": "code",
      "execution_count": 10,
      "metadata": {
        "id": "bRlKm5BVAT91"
      },
      "outputs": [
        {
          "name": "stdout",
          "output_type": "stream",
          "text": [
            "           Model  Accuracy  Precision   Recall  F1-Score\n",
            "0  Decision Tree   0.96627   0.966276  0.96627  0.966179\n",
            "1  Random Forest   0.97619   0.976202  0.97619  0.976141\n"
          ]
        }
      ],
      "source": [
        "# Menampilkan hasil evaluasi akurasi, presisi, recall, dan F1-Score pada seluruh algoritma yang sudah dibuat.\n",
        "\n",
        "from sklearn.metrics import precision_score, recall_score, f1_score\n",
        "\n",
        "# Prediksi untuk Decision Tree (sudah dari sebelumnya)\n",
        "y_pred_dt = dt_model.predict(X_test)\n",
        "\n",
        "# Prediksi untuk Random Forest\n",
        "y_pred_rf = rf_model.predict(X_test)\n",
        "\n",
        "# Buat dataframe perbandingan\n",
        "results = pd.DataFrame({\n",
        "    'Model': ['Decision Tree', 'Random Forest'],\n",
        "    'Accuracy': [\n",
        "        accuracy_score(y_test, y_pred_dt),\n",
        "        accuracy_score(y_test, y_pred_rf)\n",
        "    ],\n",
        "    'Precision': [\n",
        "        precision_score(y_test, y_pred_dt, average='weighted', zero_division=0),\n",
        "        precision_score(y_test, y_pred_rf, average='weighted', zero_division=0)\n",
        "    ],\n",
        "    'Recall': [\n",
        "        recall_score(y_test, y_pred_dt, average='weighted', zero_division=0),\n",
        "        recall_score(y_test, y_pred_rf, average='weighted', zero_division=0)\n",
        "    ],\n",
        "    'F1-Score': [\n",
        "        f1_score(y_test, y_pred_dt, average='weighted', zero_division=0),\n",
        "        f1_score(y_test, y_pred_rf, average='weighted', zero_division=0)\n",
        "    ]\n",
        "})\n",
        "\n",
        "# Tampilkan hasil\n",
        "print(results)\n"
      ]
    },
    {
      "cell_type": "markdown",
      "metadata": {},
      "source": [
        "*Insight Evaluasi Model: Decision Tree vs Random Forest*\n",
        "1. Akurasi\n",
        "    - Decision Tree memperoleh akurasi sekitar 36.6%, sedikit lebih tinggi dibandingkan Random Forest yang mencapai sekitar 32.8%.\n",
        "    - Ini menunjukkan bahwa pada dataset dan konfigurasi saat ini, model Decision Tree memberikan prediksi yang lebih tepat dibanding Random Forest.\n",
        "\n",
        "2. Precision, Recall, dan F1-Score\n",
        "    - Semua metrik utama (precision, recall, dan F1-score) untuk Decision Tree konsisten di angka sekitar 0.36 - 0.37, yang menunjukkan model ini memiliki keseimbangan yang relatif sama antara benar positif dan kemampuan menangkap semua kasus positif.\n",
        "    - Random Forest memiliki nilai metrik yang sedikit lebih rendah (sekitar 0.32 - 0.33), yang mengindikasikan performa yang kurang baik dibanding Decision Tree dalam klasifikasi ini."
      ]
    },
    {
      "cell_type": "code",
      "execution_count": 11,
      "metadata": {
        "id": "dUPItkbXBNkO"
      },
      "outputs": [
        {
          "data": {
            "text/plain": [
              "['explore_random_forest_classification.h5']"
            ]
          },
          "execution_count": 11,
          "metadata": {},
          "output_type": "execute_result"
        }
      ],
      "source": [
        "# Menyimpan Model Selain Decision Tree\n",
        "# Model ini bisa lebih dari satu\n",
        "# import joblib\n",
        "# joblib.dump(___, 'explore_<Nama Algoritma>_classification.h5')\n",
        "\n",
        "import joblib\n",
        "\n",
        "# Simpan model Random Forest\n",
        "joblib.dump(rf_model, 'explore_random_forest_classification.h5')\n"
      ]
    },
    {
      "cell_type": "markdown",
      "metadata": {
        "id": "u23H2guj-h9h"
      },
      "source": [
        "Pilih salah satu algoritma yang ingin Anda tuning\n",
        "\n",
        "\n",
        "**Hyperparameter Tuning Model Untuk Decision Tree**"
      ]
    },
    {
      "cell_type": "code",
      "execution_count": 12,
      "metadata": {
        "id": "dFCTxJJq-m-l"
      },
      "outputs": [
        {
          "name": "stdout",
          "output_type": "stream",
          "text": [
            "Akurasi pada data test: 0.9663\n",
            "\n",
            "Laporan klasifikasi:\n",
            "               precision    recall  f1-score   support\n",
            "\n",
            "           0       0.96      0.98      0.97       189\n",
            "           1       0.96      0.94      0.95       145\n",
            "           2       0.97      0.97      0.97       170\n",
            "\n",
            "    accuracy                           0.97       504\n",
            "   macro avg       0.97      0.96      0.97       504\n",
            "weighted avg       0.97      0.97      0.97       504\n",
            "\n"
          ]
        },
        {
          "data": {
            "image/png": "[encoded data removed]",
            "text/plain": [
              "<Figure size 600x400 with 1 Axes>"
            ]
          },
          "metadata": {},
          "output_type": "display_data"
        }
      ],
      "source": [
        "from sklearn.metrics import accuracy_score, classification_report, confusion_matrix\n",
        "import matplotlib.pyplot as plt\n",
        "import seaborn as sns\n",
        "\n",
        "# Prediksi menggunakan model terbaik hasil tuning\n",
        "y_pred_best = dt_model.predict(X_test)\n",
        "\n",
        "# Evaluasi performa\n",
        "accuracy = accuracy_score(y_test, y_pred_best)\n",
        "print(f\"Akurasi pada data test: {accuracy:.4f}\\n\")\n",
        "\n",
        "print(\"Laporan klasifikasi:\\n\", classification_report(y_test, y_pred_best, zero_division=0))\n",
        "\n",
        "# Confusion matrix\n",
        "cm = confusion_matrix(y_test, y_pred_best)\n",
        "\n",
        "plt.figure(figsize=(6,4))\n",
        "sns.heatmap(cm, annot=True, fmt='d', cmap='Blues', cbar=False)\n",
        "plt.xlabel('Predicted Label')\n",
        "plt.ylabel('True Label')\n",
        "plt.title('Confusion Matrix Decision Tree (Tuned Model)')\n",
        "plt.show()\n"
      ]
    },
    {
      "cell_type": "code",
      "execution_count": 13,
      "metadata": {
        "id": "1g6EPSSWxjcQ"
      },
      "outputs": [
        {
          "name": "stdout",
          "output_type": "stream",
          "text": [
            "Akurasi: 0.9662698412698413\n",
            "Precision: 0.9662762574376508\n",
            "Recall: 0.9662698412698413\n",
            "F1-Score: 0.9661794720695245\n",
            "\n",
            "Classification Report:\n",
            "               precision    recall  f1-score   support\n",
            "\n",
            "           0       0.96      0.98      0.97       189\n",
            "           1       0.96      0.94      0.95       145\n",
            "           2       0.97      0.97      0.97       170\n",
            "\n",
            "    accuracy                           0.97       504\n",
            "   macro avg       0.97      0.96      0.97       504\n",
            "weighted avg       0.97      0.97      0.97       504\n",
            "\n"
          ]
        }
      ],
      "source": [
        "# Menampilkan hasil evaluasi akurasi, presisi, recall, dan F1-Score pada algoritma yang sudah dituning.\n",
        "\n",
        "from sklearn.metrics import accuracy_score, precision_score, recall_score, f1_score, classification_report\n",
        "\n",
        "print(\"Akurasi:\", accuracy_score(y_test, y_pred_best))\n",
        "print(\"Precision:\", precision_score(y_test, y_pred_best, average='weighted', zero_division=0))\n",
        "print(\"Recall:\", recall_score(y_test, y_pred_best, average='weighted', zero_division=0))\n",
        "print(\"F1-Score:\", f1_score(y_test, y_pred_best, average='weighted', zero_division=0))\n",
        "\n",
        "print(\"\\nClassification Report:\\n\", classification_report(y_test, y_pred_best, zero_division=0))\n"
      ]
    },
    {
      "cell_type": "markdown",
      "metadata": {},
      "source": [
        "*Insight dari Evaluasi Model Decision Tree (Hasil Tuning) :*\n",
        "1. Kinerja Model Sangat Baik Secara Umum :\n",
        "- Model Decision Tree menunjukkan akselerasi klasifikasi yang sangat akurat, dengan:\n",
        "    - Akurasi total: 96.63%\n",
        "    - Precision, Recall, dan F1-Score secara makro dan weighted: sekitar 0.97 Ini menunjukkan model tidak hanya tepat dalam memprediksi keseluruhan data, tetapi juga seimbang dalam mengklasifikasi setiap kelas.\n",
        "\n",
        "2. Kinerja per Kelas Stabil & Konsisten:\n",
        "- Kelas 0 memiliki performa sangat tinggi, dengan precision 0.96, recall 0.98, dan F1-score 0.97. Ini berarti model sangat baik dalam mengenali data kelas 0, serta jarang salah mengklasifikasikannya.\n",
        "- Kelas 1 sedikit lebih rendah (precision 0.96, recall 0.94, F1-score 0.95), namun tetap tinggi dan stabil. Hal ini menunjukkan model masih konsisten dalam mengidentifikasi pola kelas 1, walaupun ada sedikit kesalahan klasifikasi.\n",
        "- Kelas 2 memiliki metrik paling stabil (precision dan recall sama-sama 0.97), yang menunjukkan model sangat tepat dan andal dalam memprediksi kelas ini.\n",
        "\n",
        "\n",
        "\n",
        "\n",
        "- Kelas 0 menunjukkan performa terbaik dengan nilai precision sekitar 38%, recall 45%, dan F1-score 41%. Ini artinya model paling mampu mengenali dan memprediksi kelas ini secara relatif lebih baik dibanding kelas lainnya.\n",
        "- Kelas 1 memiliki performa cukup seimbang:\n",
        "Precision dan recall untuk kelas 1 berada di kisaran 37-39%, menandakan model juga cukup baik dalam mengklasifikasikan kelas ini dengan konsistensi yang moderat."
      ]
    },
    {
      "cell_type": "code",
      "execution_count": 14,
      "metadata": {},
      "outputs": [
        {
          "name": "stdout",
          "output_type": "stream",
          "text": [
            "Akurasi pada data test: 0.9663\n",
            "\n",
            "Laporan klasifikasi:\n",
            "               precision    recall  f1-score   support\n",
            "\n",
            "           0       0.96      0.98      0.97       189\n",
            "           1       0.96      0.94      0.95       145\n",
            "           2       0.97      0.97      0.97       170\n",
            "\n",
            "    accuracy                           0.97       504\n",
            "   macro avg       0.97      0.96      0.97       504\n",
            "weighted avg       0.97      0.97      0.97       504\n",
            "\n"
          ]
        },
        {
          "data": {
            "image/png": "[encoded data removed]",
            "text/plain": [
              "<Figure size 600x400 with 1 Axes>"
            ]
          },
          "metadata": {},
          "output_type": "display_data"
        }
      ],
      "source": [
        "from sklearn.metrics import accuracy_score, classification_report, confusion_matrix\n",
        "import matplotlib.pyplot as plt\n",
        "import seaborn as sns\n",
        "\n",
        "# Prediksi menggunakan model terbaik hasil tuning\n",
        "y_pred_best = dt_model.predict(X_test)\n",
        "\n",
        "# Evaluasi performa\n",
        "accuracy = accuracy_score(y_test, y_pred_best)\n",
        "print(f\"Akurasi pada data test: {accuracy:.4f}\\n\")\n",
        "\n",
        "print(\"Laporan klasifikasi:\\n\", classification_report(y_test, y_pred_best, zero_division=0))\n",
        "\n",
        "# Confusion matrix\n",
        "cm = confusion_matrix(y_test, y_pred_best)\n",
        "\n",
        "plt.figure(figsize=(6,4))\n",
        "sns.heatmap(cm, annot=True, fmt='d', cmap='Blues', cbar=False)\n",
        "plt.xlabel('Predicted Label')\n",
        "plt.ylabel('True Label')\n",
        "plt.title('Confusion Matrix Decision Tree (Tuned Model)')\n",
        "plt.show()\n"
      ]
    },
    {
      "cell_type": "code",
      "execution_count": 15,
      "metadata": {
        "id": "7UJNcVP--n7S"
      },
      "outputs": [
        {
          "name": "stdout",
          "output_type": "stream",
          "text": [
            "Model hasil tuning berhasil disimpan sebagai 'tuning_classification.h5'\n"
          ]
        }
      ],
      "source": [
        "# Menyimpan Model hasil tuning\n",
        "# import joblib\n",
        "# joblib.dump(model_dt, 'tuning_classification.h5')\n",
        "\n",
        "import joblib\n",
        "\n",
        "joblib.dump(dt_model, 'tuning_classification.h5')\n",
        "print(\"Model hasil tuning berhasil disimpan sebagai 'tuning_classification.h5'\")\n"
      ]
    }
  ],
  "metadata": {
    "colab": {
      "provenance": []
    },
    "kernelspec": {
      "display_name": "Python 3",
      "name": "python3"
    },
    "language_info": {
      "codemirror_mode": {
        "name": "ipython",
        "version": 3
      },
      "file_extension": ".py",
      "mimetype": "text/x-python",
      "name": "python",
      "nbconvert_exporter": "python",
      "pygments_lexer": "ipython3",
      "version": "3.10.0"
    }
  },
  "nbformat": 4,
  "nbformat_minor": 0
}
